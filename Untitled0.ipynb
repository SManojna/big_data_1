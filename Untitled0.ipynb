{
  "nbformat": 4,
  "nbformat_minor": 0,
  "metadata": {
    "colab": {
      "provenance": [],
      "toc_visible": true,
      "authorship_tag": "ABX9TyN5EMNacANzW7G7L9BAFsF6",
      "include_colab_link": true
    },
    "kernelspec": {
      "name": "python3",
      "display_name": "Python 3"
    },
    "language_info": {
      "name": "python"
    }
  },
  "cells": [
    {
      "cell_type": "markdown",
      "metadata": {
        "id": "view-in-github",
        "colab_type": "text"
      },
      "source": [
        "<a href=\"https://colab.research.google.com/github/SManojna/big_data_1/blob/main/Untitled0.ipynb\" target=\"_parent\"><img src=\"https://colab.research.google.com/assets/colab-badge.svg\" alt=\"Open In Colab\"/></a>"
      ]
    },
    {
      "cell_type": "code",
      "source": [
        "# 5 A Input the string “Python” as a list of characters from console, delete at least 2\n",
        "# characters, reversetheresultant string, and print it.\n",
        "# Sample input:\n",
        "# • python\n",
        "# Sample output:\n",
        "# • htyp\n",
        "\n",
        "input_str = input(\"Enter a string : \")\n",
        "char_list = list(input_str)\n",
        "del char_list[4:6]\n",
        "char_list.reverse()\n",
        "result = ''.join(char_list)\n",
        "print(result)\n",
        "\n"
      ],
      "metadata": {
        "id": "b74VZQ2RbsmK",
        "colab": {
          "base_uri": "https://localhost:8080/"
        },
        "outputId": "d9adfbec-bb8e-4b14-da92-5ca8624f1f2c"
      },
      "execution_count": null,
      "outputs": [
        {
          "output_type": "stream",
          "name": "stdout",
          "text": [
            "Enter a string : Python\n",
            "htyP\n"
          ]
        }
      ]
    },
    {
      "cell_type": "code",
      "source": [
        "#5 B Take two numbers from user and perform at least 4 arithmetic operations on them.\n",
        "\n",
        "num1 = float(input(\"Enter numebr 1: \"))\n",
        "num2 = float(input(\"Enter number 2: \"))\n",
        "\n",
        "addition = num1+num2\n",
        "subtraction = num1-num2\n",
        "division = num1/num2 if num2!=0 else \"cannot divide by 0\"\n",
        "multiplication = num1*num2\n",
        "\n",
        "print(\"sum\", addition)\n",
        "print(\"difference\", subtraction)\n",
        "print(\"division\", division)\n",
        "print(\"multiplication\", multiplication)\n"
      ],
      "metadata": {
        "id": "HKEAcyXLdJ7r",
        "outputId": "36966fc4-0451-42db-8279-1f72464106e7",
        "colab": {
          "base_uri": "https://localhost:8080/"
        }
      },
      "execution_count": null,
      "outputs": [
        {
          "output_type": "stream",
          "name": "stdout",
          "text": [
            "Enter numebr 1: 3\n",
            "Enter number 2: 2\n",
            "sum 5.0\n",
            "difference 1.0\n",
            "division 1.5\n",
            "multiplication 6.0\n"
          ]
        }
      ]
    },
    {
      "cell_type": "code",
      "source": [
        "#6. Write a program that accepts a sentence and replace each occurrence of ‘python’ with 'pythons'\n",
        "\n",
        "sentence = input(\"Enter a sentence : \")\n",
        "modified_sentence = sentence.replace('python', 'pythons')\n",
        "print(modified_sentence)"
      ],
      "metadata": {
        "id": "cJjKJj4SeeCp",
        "outputId": "71a462eb-c464-4ff6-8de0-b17deda56fb2",
        "colab": {
          "base_uri": "https://localhost:8080/"
        }
      },
      "execution_count": null,
      "outputs": [
        {
          "output_type": "stream",
          "name": "stdout",
          "text": [
            "Enter a sentence : I  love playing with python\n",
            "I  love playing with pythons\n"
          ]
        }
      ]
    },
    {
      "cell_type": "code",
      "source": [
        "#7\n",
        "score = float(input(\"Enter your class score : \"))\n",
        "if score >= 90 and score <= 100:\n",
        "    grade = 'A'\n",
        "elif score >= 80 and score < 90:\n",
        "    grade = 'B'\n",
        "elif score >= 70 and score < 80:\n",
        "    grade = 'C'\n",
        "elif score >= 60 and score < 70:\n",
        "    grade = 'D'\n",
        "elif score >= 0 and score < 60:\n",
        "    grade = 'F'\n",
        "else:\n",
        "    grade = 'Invalid score'\n",
        "print(grade)\n"
      ],
      "metadata": {
        "id": "Q_uNebhFfMTM",
        "outputId": "a315fa75-62e1-44a7-bfe0-a5718ab103b7",
        "colab": {
          "base_uri": "https://localhost:8080/"
        }
      },
      "execution_count": null,
      "outputs": [
        {
          "output_type": "stream",
          "name": "stdout",
          "text": [
            "Enter your class score : 91\n",
            "A\n"
          ]
        }
      ]
    },
    {
      "cell_type": "code",
      "source": [
        "#8\n",
        "x = [23, 'Python', 23.98]\n",
        "types_list = [type(item) for item in x]\n",
        "print(x)\n",
        "print(types_list)"
      ],
      "metadata": {
        "id": "5_-zWz54f2AA",
        "outputId": "e816042b-4664-4378-e6b7-ec46a8e8c4a9",
        "colab": {
          "base_uri": "https://localhost:8080/"
        }
      },
      "execution_count": 6,
      "outputs": [
        {
          "output_type": "stream",
          "name": "stdout",
          "text": [
            "[23, 'Python', 23.98]\n",
            "[<class 'int'>, <class 'str'>, <class 'float'>]\n"
          ]
        }
      ]
    },
    {
      "cell_type": "code",
      "source": [
        "#9\n",
        "IT_companies = {'Facebook', 'Google', 'Microsoft', 'Apple', 'IBM', 'Oracle', 'Amazon'}\n",
        "A = {19, 22, 24, 20, 25, 26}\n",
        "B = {19, 22, 20, 25, 26, 24, 28, 27}\n",
        "age = [22, 19, 24, 25, 26, 24, 25, 24]\n",
        "print(\"Length of IT_companies:\", len(IT_companies))\n",
        "\n",
        "IT_companies.add('Twitter')\n",
        "print(\"IT_companies after adding Twitter:\", IT_companies)\n",
        "\n",
        "IT_companies.update(['Tesla', 'GE'])\n",
        "print(\"IT_comapnies after updating with multiple companies\", IT_companies)\n",
        "\n",
        "IT_companies.remove('Oracle')\n",
        "print(\"IT_companies after removing Oracle:\", IT_companies)\n",
        "\n",
        "A_union_B = A.union(B)\n",
        "print(\"Union of A and B:\", A_union_B)\n",
        "\n",
        "A_intersection_B = A.intersection(B)\n",
        "print(\"Intersection of A and B:\", A_intersection_B)\n",
        "\n",
        "is_subset = A.issubset(B)\n",
        "print(\"Is A a subset of B?\", is_subset)\n",
        "\n",
        "are_disjoint = A.isdisjoint(B)\n",
        "print(\"Are A and B disjoint?\", are_disjoint)\n",
        "\n",
        "A_with_B = A.union(B)\n",
        "B_with_A = B.union(A)\n",
        "print(\"A union B:\", A_with_B)\n",
        "print(\"B union A:\", B_with_A)\n",
        "\n",
        "symmetric_diff = A.symmetric_difference(B)\n",
        "print(\"Symmetric difference between A and B:\", symmetric_diff)\n",
        "\n",
        "del IT_companies\n",
        "del A\n",
        "del B\n",
        "print(\"Sets IT_companies, A, and B have been deleted\")\n",
        "\n",
        "age_set = set(age)\n",
        "print(\"Original age list:\", age)\n",
        "print(\"Age set:\", age_set)\n",
        "print(\"Length of age list:\", len(age))\n",
        "print(\"Length of age set:\", len(age_set))\n"
      ],
      "metadata": {
        "id": "UtCfiftrgNno",
        "outputId": "5e734a99-ea98-4a0e-92a9-c046645c4c71",
        "colab": {
          "base_uri": "https://localhost:8080/"
        }
      },
      "execution_count": 7,
      "outputs": [
        {
          "output_type": "stream",
          "name": "stdout",
          "text": [
            "Length of IT_companies: 7\n",
            "IT_companies after adding Twitter: {'Apple', 'Oracle', 'Amazon', 'Twitter', 'Microsoft', 'IBM', 'Google', 'Facebook'}\n",
            "IT_comapnies after updating with multiple companies {'Twitter', 'Google', 'Facebook', 'Oracle', 'Microsoft', 'Apple', 'GE', 'IBM', 'Tesla', 'Amazon'}\n",
            "IT_companies after removing Oracle: {'Twitter', 'Google', 'Facebook', 'Microsoft', 'Apple', 'GE', 'IBM', 'Tesla', 'Amazon'}\n",
            "Union of A and B: {19, 20, 22, 24, 25, 26, 27, 28}\n",
            "Intersection of A and B: {19, 20, 22, 24, 25, 26}\n",
            "Is A a subset of B? True\n",
            "Are A and B disjoint? False\n",
            "A union B: {19, 20, 22, 24, 25, 26, 27, 28}\n",
            "B union A: {19, 20, 22, 24, 25, 26, 27, 28}\n",
            "Symmetric difference between A and B: {27, 28}\n",
            "Sets IT_companies, A, and B have been deleted\n",
            "Original age list: [22, 19, 24, 25, 26, 24, 25, 24]\n",
            "Age set: {19, 22, 24, 25, 26}\n",
            "Length of age list: 8\n",
            "Length of age set: 5\n"
          ]
        }
      ]
    }
  ]
}