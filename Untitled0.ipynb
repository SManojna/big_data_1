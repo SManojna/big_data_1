{
  "nbformat": 4,
  "nbformat_minor": 0,
  "metadata": {
    "colab": {
      "provenance": [],
      "authorship_tag": "ABX9TyPacIKseIM7rh1zhCWooKss",
      "include_colab_link": true
    },
    "kernelspec": {
      "name": "python3",
      "display_name": "Python 3"
    },
    "language_info": {
      "name": "python"
    }
  },
  "cells": [
    {
      "cell_type": "markdown",
      "metadata": {
        "id": "view-in-github",
        "colab_type": "text"
      },
      "source": [
        "<a href=\"https://colab.research.google.com/github/SManojna/big_data_1/blob/main/Untitled0.ipynb\" target=\"_parent\"><img src=\"https://colab.research.google.com/assets/colab-badge.svg\" alt=\"Open In Colab\"/></a>"
      ]
    },
    {
      "cell_type": "code",
      "source": [
        "# Input the string “Python” as a list of characters from console, delete at least 2\n",
        "# characters, reversetheresultant string, and print it.\n",
        "# Sample input:\n",
        "# • python\n",
        "# Sample output:\n",
        "# • htyp\n",
        "\n",
        "input_str = input(\"Enter a string : \")\n",
        "char_list = list(input_str)\n",
        "del char_list[4:6]\n",
        "char_list.reverse()\n",
        "result = ''.join(char_list)\n",
        "print(result)\n",
        "\n"
      ],
      "metadata": {
        "id": "b74VZQ2RbsmK",
        "colab": {
          "base_uri": "https://localhost:8080/"
        },
        "outputId": "d9adfbec-bb8e-4b14-da92-5ca8624f1f2c"
      },
      "execution_count": 2,
      "outputs": [
        {
          "output_type": "stream",
          "name": "stdout",
          "text": [
            "Enter a string : Python\n",
            "htyP\n"
          ]
        }
      ]
    },
    {
      "cell_type": "code",
      "source": [
        "#Take two numbers from user and perform at least 4 arithmetic operations on them.\n",
        "\n",
        "num1 = float(input(\"Enter numebr 1: \"))\n",
        "num2 = float(input(\"Enter number 2: \"))\n",
        "\n",
        "addition = num1+num2\n",
        "subtractiion = num1-num2\n",
        "division = num1/num2 if num2!=0 else \"cannot divide by 0\"\n",
        "multiplication ="
      ],
      "metadata": {
        "id": "HKEAcyXLdJ7r"
      },
      "execution_count": null,
      "outputs": []
    }
  ]
}