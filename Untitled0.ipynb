{
  "nbformat": 4,
  "nbformat_minor": 0,
  "metadata": {
    "colab": {
      "provenance": [],
      "authorship_tag": "ABX9TyOIhsYBzuWpA1P53BkJ67Lt",
      "include_colab_link": true
    },
    "kernelspec": {
      "name": "python3",
      "display_name": "Python 3"
    },
    "language_info": {
      "name": "python"
    }
  },
  "cells": [
    {
      "cell_type": "markdown",
      "metadata": {
        "id": "view-in-github",
        "colab_type": "text"
      },
      "source": [
        "<a href=\"https://colab.research.google.com/github/SManojna/big_data_1/blob/main/Untitled0.ipynb\" target=\"_parent\"><img src=\"https://colab.research.google.com/assets/colab-badge.svg\" alt=\"Open In Colab\"/></a>"
      ]
    },
    {
      "cell_type": "code",
      "execution_count": null,
      "metadata": {
        "id": "iLquOEgxbQx1"
      },
      "outputs": [],
      "source": []
    },
    {
      "cell_type": "code",
      "source": [
        "# Input the string “Python” as a list of characters from console, delete at least 2\n",
        "# characters, reversetheresultant string, and print it.\n",
        "# Sample input:\n",
        "# • python\n",
        "# Sample output:\n",
        "# • htyp\n",
        "\n",
        "input_str = input(\"Enter a string\")\n",
        "char_list = list(input_str)\n",
        "del char_list[4:6]\n",
        "char_list.reverse()\n",
        "result = ''.join(char_list)\n",
        "\n"
      ],
      "metadata": {
        "id": "b74VZQ2RbsmK"
      },
      "execution_count": null,
      "outputs": []
    }
  ]
}