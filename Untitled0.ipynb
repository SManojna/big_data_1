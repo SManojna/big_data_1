{
  "nbformat": 4,
  "nbformat_minor": 0,
  "metadata": {
    "colab": {
      "provenance": [],
      "authorship_tag": "ABX9TyNSJx7GnQ51pS25wcr+ftQK",
      "include_colab_link": true
    },
    "kernelspec": {
      "name": "python3",
      "display_name": "Python 3"
    },
    "language_info": {
      "name": "python"
    }
  },
  "cells": [
    {
      "cell_type": "markdown",
      "metadata": {
        "id": "view-in-github",
        "colab_type": "text"
      },
      "source": [
        "<a href=\"https://colab.research.google.com/github/SManojna/big_data_1/blob/main/Untitled0.ipynb\" target=\"_parent\"><img src=\"https://colab.research.google.com/assets/colab-badge.svg\" alt=\"Open In Colab\"/></a>"
      ]
    },
    {
      "cell_type": "code",
      "source": [
        "# Input the string “Python” as a list of characters from console, delete at least 2\n",
        "# characters, reversetheresultant string, and print it.\n",
        "# Sample input:\n",
        "# • python\n",
        "# Sample output:\n",
        "# • htyp\n",
        "\n",
        "input_str = input(\"Enter a string : \")\n",
        "char_list = list(input_str)\n",
        "del char_list[4:6]\n",
        "char_list.reverse()\n",
        "result = ''.join(char_list)\n",
        "print(result)\n",
        "\n"
      ],
      "metadata": {
        "id": "b74VZQ2RbsmK",
        "colab": {
          "base_uri": "https://localhost:8080/"
        },
        "outputId": "d9adfbec-bb8e-4b14-da92-5ca8624f1f2c"
      },
      "execution_count": null,
      "outputs": [
        {
          "output_type": "stream",
          "name": "stdout",
          "text": [
            "Enter a string : Python\n",
            "htyP\n"
          ]
        }
      ]
    },
    {
      "cell_type": "code",
      "source": [
        "#Take two numbers from user and perform at least 4 arithmetic operations on them.\n",
        "\n",
        "num1 = float(input(\"Enter numebr 1: \"))\n",
        "num2 = float(input(\"Enter number 2: \"))\n",
        "\n",
        "addition = num1+num2\n",
        "subtraction = num1-num2\n",
        "division = num1/num2 if num2!=0 else \"cannot divide by 0\"\n",
        "multiplication = num1*num2\n",
        "\n",
        "print(\"sum\", addition)\n",
        "print(\"difference\", subtraction)\n",
        "print(\"division\", division)\n",
        "print(\"multiplication\", multiplication)\n"
      ],
      "metadata": {
        "id": "HKEAcyXLdJ7r",
        "outputId": "36966fc4-0451-42db-8279-1f72464106e7",
        "colab": {
          "base_uri": "https://localhost:8080/"
        }
      },
      "execution_count": 3,
      "outputs": [
        {
          "output_type": "stream",
          "name": "stdout",
          "text": [
            "Enter numebr 1: 3\n",
            "Enter number 2: 2\n",
            "sum 5.0\n",
            "difference 1.0\n",
            "division 1.5\n",
            "multiplication 6.0\n"
          ]
        }
      ]
    },
    {
      "cell_type": "code",
      "source": [
        "#Write a program that accepts a sentence and replace each occurrence of ‘python’ with 'pythons'\n",
        "\n",
        "sentence = input(\"Enter a sentence : \")\n",
        "modified_sentence = sentence.replace('python', 'pythons')\n",
        "print(modified_sentence)"
      ],
      "metadata": {
        "id": "cJjKJj4SeeCp",
        "outputId": "71a462eb-c464-4ff6-8de0-b17deda56fb2",
        "colab": {
          "base_uri": "https://localhost:8080/"
        }
      },
      "execution_count": 4,
      "outputs": [
        {
          "output_type": "stream",
          "name": "stdout",
          "text": [
            "Enter a sentence : I  love playing with python\n",
            "I  love playing with pythons\n"
          ]
        }
      ]
    },
    {
      "cell_type": "code",
      "source": [
        "score = float(input(\"Enter your class score : \"))\n",
        "if score >= 90 and score <= 100:\n",
        "    grade = 'A'\n",
        "elif score >= 80 and score < 90:\n",
        "    grade = 'B'\n",
        "elif score >= 70 and score < 80:\n",
        "    grade = 'C'\n",
        "elif score >= 60 and score < 70:\n",
        "    grade = 'D'\n",
        "elif score >= 0 and score < 60:\n",
        "    grade = 'F'\n",
        "else:\n",
        "    grade = 'Invalid score'\n",
        "print(grade)\n"
      ],
      "metadata": {
        "id": "Q_uNebhFfMTM",
        "outputId": "a315fa75-62e1-44a7-bfe0-a5718ab103b7",
        "colab": {
          "base_uri": "https://localhost:8080/"
        }
      },
      "execution_count": 5,
      "outputs": [
        {
          "output_type": "stream",
          "name": "stdout",
          "text": [
            "Enter your class score : 91\n",
            "A\n"
          ]
        }
      ]
    }
  ]
}